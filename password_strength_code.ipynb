{
 "cells": [
  {
   "cell_type": "markdown",
   "metadata": {},
   "source": [
    "## Code to test password "
   ]
  },
  {
   "cell_type": "code",
   "execution_count": 1,
   "metadata": {},
   "outputs": [
    {
     "name": "stdout",
     "output_type": "stream",
     "text": [
      "common\n",
      "8 0 8 0 0\n"
     ]
    }
   ],
   "source": [
    "usr_input = input(\"Please enter a password to test strength: \")\n",
    "\n",
    "special_characters = \"~`!@#$%^&*()_-+={[}]|:;'<,>.?/\"\n",
    "\n",
    "length = 0\n",
    "upper_char = 0\n",
    "lower_char = 0\n",
    "special_character = 0\n",
    "number = 0\n",
    "\n",
    "with open('/users/jacobwhite/downloads/10-million-password-list-top-100000.txt', 'r') as f:\n",
    "    words = f.read().splitlines()\n",
    "\n",
    "for char in usr_input:\n",
    "    length += 1\n",
    "    if char.isupper():\n",
    "        upper_char +=1\n",
    "    elif char.islower():\n",
    "        lower_char += 1\n",
    "    elif char in special_characters:\n",
    "        special_character += 1\n",
    "    elif char.isdigit():\n",
    "        number +=1\n",
    "\n",
    "if usr_input in words:\n",
    "    print(\"common\")\n",
    "\n",
    "print(length, upper_char, lower_char, special_character, number)\n",
    "\n"
   ]
  }
 ],
 "metadata": {
  "kernelspec": {
   "display_name": "Python 3",
   "language": "python",
   "name": "python3"
  },
  "language_info": {
   "codemirror_mode": {
    "name": "ipython",
    "version": 3
   },
   "file_extension": ".py",
   "mimetype": "text/x-python",
   "name": "python",
   "nbconvert_exporter": "python",
   "pygments_lexer": "ipython3",
   "version": "3.12.5"
  }
 },
 "nbformat": 4,
 "nbformat_minor": 2
}
