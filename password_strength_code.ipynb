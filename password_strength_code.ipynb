{
 "cells": [
  {
   "cell_type": "markdown",
   "metadata": {},
   "source": [
    "## Code to test password "
   ]
  },
  {
   "cell_type": "code",
   "execution_count": 4,
   "metadata": {},
   "outputs": [
    {
     "name": "stdout",
     "output_type": "stream",
     "text": [
      "This is a common password, try again with something different\n",
      "8 0 8 0 0\n",
      "0.0 0.0 0.0\n",
      "Make sure you did not use something predictable like a birthday or name. Also, you shouldn't reuse passwords.\n"
     ]
    }
   ],
   "source": [
    "usr_input = input(\"Please enter a password to test strength: \")\n",
    "\n",
    "special_characters = \"~`!@#$%^&*()_-+={[}]|:;'<,>.?/\"\n",
    "\n",
    "length = 0\n",
    "upper_char = 0\n",
    "lower_char = 0\n",
    "special_character = 0\n",
    "number = 0\n",
    "\n",
    "\n",
    "with open('/users/jacobwhite/downloads/10-million-password-list-top-1000000.txt', 'r') as f:\n",
    "    words = f.read().splitlines()\n",
    "\n",
    "for char in usr_input:\n",
    "    length += 1\n",
    "    if char.isupper():\n",
    "        upper_char +=1\n",
    "    elif char.islower():\n",
    "        lower_char += 1\n",
    "    elif char in special_characters:\n",
    "        special_character += 1\n",
    "    elif char.isdigit():\n",
    "        number +=1\n",
    "\n",
    "pct_upper = round(float((upper_char/length)*100), 2)\n",
    "pct_special = round(float((special_character/length)*100), 2)\n",
    "pct_number = round(float((number/length)*100), 2)\n",
    "\n",
    "if usr_input not in words:\n",
    "    while length > 12:\n",
    "        if pct_upper > 20:\n",
    "            print(\"Good amount of capital letters\")\n",
    "            if pct_number > 10:\n",
    "                print(\"Good amount of numbers\")\n",
    "                if pct_special > 10:\n",
    "                    print(\"Good amount of special characters\")\n",
    "                else:\n",
    "                    print(\"You should try again with more special characters\")\n",
    "            else:\n",
    "                print(\"You should try again with more numbers\")\n",
    "        else:\n",
    "            print(\"You should try again with more uppercase characters\")\n",
    "        break\n",
    "else:\n",
    "    print(\"This is a common password, try again with something different\")\n",
    "                \n",
    "\n",
    "password_list = []\n",
    "\n",
    "\n",
    "print(length, upper_char, lower_char, special_character, number)\n",
    "print(pct_upper, pct_special, pct_number)\n",
    "print(\"Make sure you did not use something predictable like a birthday or name. Also, you shouldn't reuse passwords.\")\n",
    "\n"
   ]
  },
  {
   "cell_type": "code",
   "execution_count": 6,
   "metadata": {},
   "outputs": [],
   "source": [
    "def add_password():\n",
    "\n",
    "    password_to_add = input('Enter password you want to add to database. ')\n",
    "    if password_to_add not in password_list:\n",
    "        print('Adding '+password_to_add)\n",
    "        password_list.append(password_to_add)\n",
    "        print(password_list)\n",
    "    else:\n",
    "        print('Password already in list. ')\n"
   ]
  },
  {
   "cell_type": "code",
   "execution_count": 7,
   "metadata": {},
   "outputs": [],
   "source": [
    "def remove_password():\n",
    "    password_to_remove = input(\"Which password do you want to remove? \")\n",
    "    if password_to_remove in password_list:\n",
    "        print('Removing '+password_to_remove)\n",
    "        del password_list[password_to_remove]\n",
    "        print(password_list)\n",
    "    else:\n",
    "        print('Password not found. Please try again. ')"
   ]
  },
  {
   "cell_type": "code",
   "execution_count": 8,
   "metadata": {},
   "outputs": [],
   "source": [
    "def main():\n",
    "    \n",
    "    print(\"\"\"\n",
    "    Welcome to the Password Checker\n",
    "\n",
    "    [1] - Check Password\n",
    "    [2] - Add Password\n",
    "    [3] - Remove Password\n",
    "    [4] - Exit\n",
    "    \"\"\")\n",
    "\n",
    "    action = input('What would you like to do? (Enter a number) ')\n",
    "    \n",
    "    if action == '1':\n",
    "        check_password()\n",
    "    elif action == '2':\n",
    "        add_password()\n",
    "    elif action == '3':\n",
    "        remove_password()\n",
    "    elif action == '4':\n",
    "        exit()\n"
   ]
  }
 ],
 "metadata": {
  "kernelspec": {
   "display_name": "Python 3",
   "language": "python",
   "name": "python3"
  },
  "language_info": {
   "codemirror_mode": {
    "name": "ipython",
    "version": 3
   },
   "file_extension": ".py",
   "mimetype": "text/x-python",
   "name": "python",
   "nbconvert_exporter": "python",
   "pygments_lexer": "ipython3",
   "version": "3.12.5"
  }
 },
 "nbformat": 4,
 "nbformat_minor": 2
}
