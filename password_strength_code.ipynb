{
 "cells": [
  {
   "cell_type": "markdown",
   "metadata": {},
   "source": [
    "## Code to test password "
   ]
  },
  {
   "cell_type": "code",
   "execution_count": 18,
   "metadata": {},
   "outputs": [
    {
     "name": "stdout",
     "output_type": "stream",
     "text": [
      "Good amount of capital letters\n",
      "You should try again with more numbers\n",
      "13 12 0 0 1\n",
      "92.31 0.0 7.69\n",
      "Make sure you did not use something predictable like a birthday or name. Also, you shouldn't reuse passwords.\n"
     ]
    }
   ],
   "source": [
    "usr_input = input(\"Please enter a password to test strength: \")\n",
    "\n",
    "special_characters = \"~`!@#$%^&*()_-+={[}]|:;'<,>.?/\"\n",
    "\n",
    "length = 0\n",
    "upper_char = 0\n",
    "lower_char = 0\n",
    "special_character = 0\n",
    "number = 0\n",
    "\n",
    "\n",
    "with open('/users/jacobwhite/downloads/10-million-password-list-top-100000.txt', 'r') as f:\n",
    "    words = f.read().splitlines()\n",
    "\n",
    "for char in usr_input:\n",
    "    length += 1\n",
    "    if char.isupper():\n",
    "        upper_char +=1\n",
    "    elif char.islower():\n",
    "        lower_char += 1\n",
    "    elif char in special_characters:\n",
    "        special_character += 1\n",
    "    elif char.isdigit():\n",
    "        number +=1\n",
    "\n",
    "pct_upper = round(float((upper_char/length)*100), 2)\n",
    "pct_special = round(float((special_character/length)*100), 2)\n",
    "pct_number = round(float((number/length)*100), 2)\n",
    "\n",
    "while length > 12:\n",
    "    if usr_input in words:\n",
    "        print(\"You have used a common password. Try adding more numbers, uppercase, and/or special characters.\")\n",
    "    else:\n",
    "        if pct_upper > 25:\n",
    "            print(\"Good amount of capital letters\")\n",
    "            if pct_number > 10:\n",
    "                print(\"Good amount of numbers\")\n",
    "                if pct_special > 10:\n",
    "                    print(\"Good amount of special characters\")\n",
    "                else:\n",
    "                    print(\"You should try again with more special characters\")\n",
    "            else:\n",
    "                print(\"You should try again with more numbers\")\n",
    "        else:\n",
    "            print(\"You should try again with more uppercase characters\")\n",
    "            \n",
    "    break\n",
    "\n",
    "\n",
    "                \n",
    "\n",
    "print(length, upper_char, lower_char, special_character, number)\n",
    "print(pct_upper, pct_special, pct_number)\n",
    "print(\"Make sure you did not use something predictable like a birthday or name. Also, you shouldn't reuse passwords.\")\n",
    "\n"
   ]
  }
 ],
 "metadata": {
  "kernelspec": {
   "display_name": "Python 3",
   "language": "python",
   "name": "python3"
  },
  "language_info": {
   "codemirror_mode": {
    "name": "ipython",
    "version": 3
   },
   "file_extension": ".py",
   "mimetype": "text/x-python",
   "name": "python",
   "nbconvert_exporter": "python",
   "pygments_lexer": "ipython3",
   "version": "3.12.5"
  }
 },
 "nbformat": 4,
 "nbformat_minor": 2
}
